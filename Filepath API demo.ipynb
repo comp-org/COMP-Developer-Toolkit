{
 "cells": [
  {
   "cell_type": "code",
   "execution_count": 1,
   "metadata": {},
   "outputs": [],
   "source": [
    "import json\n",
    "\n",
    "import fsspec\n",
    "\n",
    "from cs_kit.filespec import CSFileSystem"
   ]
  },
  {
   "cell_type": "code",
   "execution_count": 2,
   "metadata": {},
   "outputs": [
    {
     "data": {
      "text/plain": [
       "{'II_rt1': [{'year': 2019, 'value': 0.25}],\n",
       " 'II_rt2': [{'year': 2019, 'value': 0.25}],\n",
       " 'II_rt3': [{'year': 2019, 'value': 0.25}],\n",
       " 'II_rt4': [{'year': 2019, 'value': 0.25}],\n",
       " 'II_rt5': [{'year': 2019, 'value': 0.25}],\n",
       " 'II_rt6': [{'year': 2019, 'value': 0.25}],\n",
       " 'II_rt7': [{'year': 2019, 'value': 0.7}],\n",
       " 'II_brk6': [{'MARS': 'widow', 'year': 2019, 'value': 2000000},\n",
       "  {'MARS': 'headhh', 'year': 2019, 'value': 2000000},\n",
       "  {'MARS': 'mseparate', 'year': 2019, 'value': 2000000},\n",
       "  {'MARS': 'mjoint', 'year': 2019, 'value': 2000000},\n",
       "  {'MARS': 'single', 'year': 2019, 'value': 2000000}]}"
      ]
     },
     "execution_count": 2,
     "metadata": {},
     "output_type": "execute_result"
    }
   ],
   "source": [
    "with fsspec.open(\"cs://PSLmodels:Tax-Brain@47410/inputs/adjustment/policy/\", \"r\") as f:\n",
    "    data = json.loads(f.read())\n",
    "data"
   ]
  },
  {
   "cell_type": "code",
   "execution_count": 3,
   "metadata": {},
   "outputs": [
    {
     "data": {
      "text/plain": [
       "OrderedDict([('II_rt1', [{'value': 0.25, 'year': 2019}]),\n",
       "             ('II_rt2', [{'value': 0.25, 'year': 2019}]),\n",
       "             ('II_rt3', [{'value': 0.25, 'year': 2019}]),\n",
       "             ('II_rt4', [{'value': 0.25, 'year': 2019}]),\n",
       "             ('II_rt5', [{'value': 0.25, 'year': 2019}]),\n",
       "             ('II_rt6', [{'value': 0.25, 'year': 2019}]),\n",
       "             ('II_brk6',\n",
       "              [{'value': 2000000.0, 'year': 2019, 'MARS': 'widow'},\n",
       "               {'value': 2000000.0, 'year': 2019, 'MARS': 'headhh'},\n",
       "               {'value': 2000000.0, 'year': 2019, 'MARS': 'mseparate'},\n",
       "               {'value': 2000000.0, 'year': 2019, 'MARS': 'mjoint'},\n",
       "               {'value': 2000000.0, 'year': 2019, 'MARS': 'single'}]),\n",
       "             ('II_rt7', [{'value': 0.7, 'year': 2019}])])"
      ]
     },
     "execution_count": 3,
     "metadata": {},
     "output_type": "execute_result"
    }
   ],
   "source": [
    "import taxcalc\n",
    "\n",
    "pol = taxcalc.Policy()\n",
    "pol.adjust(\"cs://PSLmodels:Tax-Brain@47410/inputs/adjustment/policy\")"
   ]
  },
  {
   "cell_type": "code",
   "execution_count": 4,
   "metadata": {},
   "outputs": [],
   "source": [
    "import io\n",
    "\n",
    "import pandas as pd\n",
    "import paramtools\n",
    "\n",
    "data = paramtools.read_json(\"cs://PSLmodels:Tax-Brain@47410/outputs\")\n",
    "\n",
    "results = []\n",
    "for output in data:\n",
    "    results.append(\n",
    "        pd.read_csv(io.StringIO(output[\"data\"]))\n",
    "    )"
   ]
  },
  {
   "cell_type": "code",
   "execution_count": 5,
   "metadata": {},
   "outputs": [
    {
     "data": {
      "text/html": [
       "<div>\n",
       "<style scoped>\n",
       "    .dataframe tbody tr th:only-of-type {\n",
       "        vertical-align: middle;\n",
       "    }\n",
       "\n",
       "    .dataframe tbody tr th {\n",
       "        vertical-align: top;\n",
       "    }\n",
       "\n",
       "    .dataframe thead th {\n",
       "        text-align: right;\n",
       "    }\n",
       "</style>\n",
       "<table border=\"1\" class=\"dataframe\">\n",
       "  <thead>\n",
       "    <tr style=\"text-align: right;\">\n",
       "      <th></th>\n",
       "      <th>Unnamed: 0</th>\n",
       "      <th>2019</th>\n",
       "      <th>2020</th>\n",
       "      <th>2021</th>\n",
       "      <th>2022</th>\n",
       "      <th>2023</th>\n",
       "      <th>2024</th>\n",
       "      <th>2025</th>\n",
       "      <th>2026</th>\n",
       "      <th>2027</th>\n",
       "      <th>2028</th>\n",
       "      <th>2029</th>\n",
       "    </tr>\n",
       "  </thead>\n",
       "  <tbody>\n",
       "    <tr>\n",
       "      <th>0</th>\n",
       "      <td>Individual Income Tax Liability Change</td>\n",
       "      <td>$651.31</td>\n",
       "      <td>$677.74</td>\n",
       "      <td>$707.50</td>\n",
       "      <td>$735.71</td>\n",
       "      <td>$764.94</td>\n",
       "      <td>$793.97</td>\n",
       "      <td>$824.71</td>\n",
       "      <td>$609.33</td>\n",
       "      <td>$631.98</td>\n",
       "      <td>$654.94</td>\n",
       "      <td>$678.08</td>\n",
       "    </tr>\n",
       "    <tr>\n",
       "      <th>1</th>\n",
       "      <td>Payroll Tax Liability Change</td>\n",
       "      <td>$0.00</td>\n",
       "      <td>$0.00</td>\n",
       "      <td>$0.00</td>\n",
       "      <td>$0.00</td>\n",
       "      <td>$0.00</td>\n",
       "      <td>$0.00</td>\n",
       "      <td>$0.00</td>\n",
       "      <td>$0.00</td>\n",
       "      <td>$0.00</td>\n",
       "      <td>$0.00</td>\n",
       "      <td>$0.00</td>\n",
       "    </tr>\n",
       "    <tr>\n",
       "      <th>2</th>\n",
       "      <td>Combined Payroll and Individual Income Tax Lia...</td>\n",
       "      <td>$651.31</td>\n",
       "      <td>$677.74</td>\n",
       "      <td>$707.50</td>\n",
       "      <td>$735.71</td>\n",
       "      <td>$764.94</td>\n",
       "      <td>$793.97</td>\n",
       "      <td>$824.71</td>\n",
       "      <td>$609.33</td>\n",
       "      <td>$631.98</td>\n",
       "      <td>$654.94</td>\n",
       "      <td>$678.08</td>\n",
       "    </tr>\n",
       "  </tbody>\n",
       "</table>\n",
       "</div>"
      ],
      "text/plain": [
       "                                          Unnamed: 0     2019     2020  \\\n",
       "0             Individual Income Tax Liability Change  $651.31  $677.74   \n",
       "1                       Payroll Tax Liability Change    $0.00    $0.00   \n",
       "2  Combined Payroll and Individual Income Tax Lia...  $651.31  $677.74   \n",
       "\n",
       "      2021     2022     2023     2024     2025     2026     2027     2028  \\\n",
       "0  $707.50  $735.71  $764.94  $793.97  $824.71  $609.33  $631.98  $654.94   \n",
       "1    $0.00    $0.00    $0.00    $0.00    $0.00    $0.00    $0.00    $0.00   \n",
       "2  $707.50  $735.71  $764.94  $793.97  $824.71  $609.33  $631.98  $654.94   \n",
       "\n",
       "      2029  \n",
       "0  $678.08  \n",
       "1    $0.00  \n",
       "2  $678.08  "
      ]
     },
     "execution_count": 5,
     "metadata": {},
     "output_type": "execute_result"
    }
   ],
   "source": [
    "results[0]"
   ]
  },
  {
   "cell_type": "code",
   "execution_count": 6,
   "metadata": {},
   "outputs": [
    {
     "data": {
      "text/plain": [
       "{'owner': 'MaxGhenis'}"
      ]
     },
     "execution_count": 6,
     "metadata": {},
     "output_type": "execute_result"
    }
   ],
   "source": [
    "with fsspec.open(\"cs://PSLmodels:Tax-Brain@47410/owner\") as f:\n",
    "    result = json.loads(f.read())\n",
    "\n",
    "result"
   ]
  },
  {
   "cell_type": "code",
   "execution_count": 7,
   "metadata": {},
   "outputs": [
    {
     "data": {
      "text/plain": [
       "{'title': 'Super secret sim'}"
      ]
     },
     "execution_count": 7,
     "metadata": {},
     "output_type": "execute_result"
    }
   ],
   "source": [
    "with fsspec.open(\"cs://PSLmodels:Tax-Cruncher@520/title\", api_token=\"your-api-token\") as f:\n",
    "    result = json.loads(f.read())\n",
    "result"
   ]
  },
  {
   "cell_type": "code",
   "execution_count": null,
   "metadata": {},
   "outputs": [],
   "source": []
  }
 ],
 "metadata": {
  "kernelspec": {
   "display_name": "Python 3",
   "language": "python",
   "name": "python3"
  },
  "language_info": {
   "codemirror_mode": {
    "name": "ipython",
    "version": 3
   },
   "file_extension": ".py",
   "mimetype": "text/x-python",
   "name": "python",
   "nbconvert_exporter": "python",
   "pygments_lexer": "ipython3",
   "version": "3.8.3"
  }
 },
 "nbformat": 4,
 "nbformat_minor": 4
}
